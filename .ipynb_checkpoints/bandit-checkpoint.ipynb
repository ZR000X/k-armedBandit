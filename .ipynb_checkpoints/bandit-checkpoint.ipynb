{
 "cells": [
  {
   "cell_type": "code",
   "execution_count": null,
   "id": "1748854a-9d72-4cff-8737-7ad29db3138a",
   "metadata": {},
   "outputs": [],
   "source": [
    "from bandit import bp1\n",
    "\n",
    "bp1(\n",
    "    k=10, \n",
    "    var=1,\n",
    "    N=1000, \n",
    "    step=1,\n",
    "    explore=0.5,\n",
    "    figures=True\n",
    ")"
   ]
  }
 ],
 "metadata": {
  "kernelspec": {
   "display_name": "Python 3 (ipykernel)",
   "language": "python",
   "name": "python3"
  },
  "language_info": {
   "codemirror_mode": {
    "name": "ipython",
    "version": 3
   },
   "file_extension": ".py",
   "mimetype": "text/x-python",
   "name": "python",
   "nbconvert_exporter": "python",
   "pygments_lexer": "ipython3",
   "version": "3.8.12"
  }
 },
 "nbformat": 4,
 "nbformat_minor": 5
}
